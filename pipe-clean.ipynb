{
 "cells": [
  {
   "cell_type": "code",
   "execution_count": null,
   "id": "04fdd248",
   "metadata": {},
   "outputs": [],
   "source": [
    "# Import built-in and custom functions\n",
    "\n",
    "import numpy as np, pandas as pd\n",
    "\n",
    "import Code.misc_splitting as ms\n",
    "import Code.lesion_selection as ls\n",
    "import Code.lesion_aggregation as la\n",
    "import Code.feature_handling as fh\n",
    "import Code.survival_analysis as sa"
   ]
  },
  {
   "cell_type": "code",
   "execution_count": null,
   "id": "aafbdaf9",
   "metadata": {},
   "outputs": [],
   "source": [
    "# Load the data\n",
    "\n",
    "radiomics = pd.read_csv('path/to/radiomics.csv')\n",
    "clinical = pd.read_csv('path/to/clinical.csv')"
   ]
  },
  {
   "cell_type": "code",
   "execution_count": null,
   "id": "2a64495b",
   "metadata": {},
   "outputs": [],
   "source": [
    "# Modify parameters as necessary\n",
    "aggName = 'smallest'\n",
    "inclMetsFlag = False\n",
    "\n",
    "\n",
    "df_imaging = radiomics.copy()\n",
    "df_clinical = clinical.copy()\n",
    "train,test = ms.randomSplit(df_imaging,df_clinical,0.8,False)\n",
    "\n",
    "\n",
    "pipe_dict = {\n",
    "                'train' : [train,True],\n",
    "                'test'  : [test,False]\n",
    "            }\n",
    "\n",
    "func_dict = {\n",
    "                'largest'  : [ls.selectLargestLesion, lambda x: fh.featureSelection(fh.featureReduction(x,numMetsFlag=inclMetsFlag,scaleFlag=True),numFeatures=10,numMetsFlag=inclMetsFlag)],\n",
    "                'smallest' : [ls.selectSmallestLesion, lambda x: fh.featureSelection(fh.featureReduction(x,numMetsFlag=inclMetsFlag,scaleFlag=True),numFeatures=10,numMetsFlag=inclMetsFlag)],\n",
    "                #'primary'  : [ls.selectPrimaryTumor, lambda x: fh.featureSelection(fh.featureReduction(x,numMetsFlag=inclMetsFlag,scaleFlag=True),numFeatures=10,numMetsFlag=inclMetsFlag)],\n",
    "                #'lung'     : [ls.selectLargestLungLesion, lambda x: fh.featureSelection(fh.featureReduction(x,numMetsFlag=inclMetsFlag,scaleFlag=True),numFeatures=10,numMetsFlag=inclMetsFlag)],\n",
    "                'UWA'      : [la.calcUnweightedAverage, lambda x: fh.featureSelection(fh.featureReduction(x,numMetsFlag=inclMetsFlag,scaleFlag=True),numFeatures=10,numMetsFlag=inclMetsFlag)],\n",
    "                'VWA'      : [la.calcVolumeWeightedAverage, lambda x: fh.featureSelection(fh.featureReduction(x,numMetsFlag=inclMetsFlag,scaleFlag=True),numFeatures=10,numMetsFlag=inclMetsFlag)],\n",
    "                'VWANLrg'  : [la.calcVolumeWeightedAverageNLargest, lambda x: fh.featureSelection(fh.featureReduction(x,numMetsFlag=inclMetsFlag,scaleFlag=True),numFeatures=10,numMetsFlag=inclMetsFlag)],            \n",
    "                'cosine'   : [la.calcCosineMetrics, lambda x: fh.featureSelection(x,numFeatures=2,scaleFlag=True)],\n",
    "                'concat'   : [la.concatenateNLargest, lambda x: fh.featureSelection(x,scaleFlag=True)]\n",
    "            }\n",
    " \n",
    "    \n",
    "# ----- TRAINING SET -----\n",
    "# isolate the patients in the defined split (i.e., train/test)\n",
    "df_imaging_train = df_imaging[df_imaging.USUBJID.isin(pipe_dict['train'][0])].reset_index()\n",
    "df_clinical_train = df_clinical[df_clinical.USUBJID.isin(pipe_dict['train'][0])].reset_index()\n",
    "\n",
    "trainingSet = func_dict[aggName][1](func_dict[aggName][0](df_imaging_train,df_clinical_train,numMetsFlag=inclMetsFlag).drop('USUBJID',1))\n",
    "\n",
    "\n",
    "# ----- TESTING SET -----\n",
    "# isolate the patients in the defined split (i.e., train/test)\n",
    "df_imaging_test = df_imaging[df_imaging.USUBJID.isin(pipe_dict['test'][0])].reset_index()\n",
    "df_clinical_test = df_clinical[df_clinical.USUBJID.isin(pipe_dict['test'][0])].reset_index()\n",
    "\n",
    "testingSet = func_dict[aggName][0](df_imaging_test,df_clinical_test,scaleFlag=True,numMetsFlag=inclMetsFlag).drop('USUBJID',1)[trainingSet.columns]\n",
    "\n",
    "# ----- MODELLING -----\n",
    "# Cox PH\n",
    "best_params_CPH = sa.CPH_bootstrap(trainingSet,aggName,'OS',pipe_dict['train'][1])\n",
    "sa.CPH_bootstrap(testingSet,aggName,'OS',pipe_dict['test'][1],param_grid=best_params_CPH)\n",
    "\n",
    "# Lasso-Cox\n",
    "best_params_LAS = sa.LASSO_COX_bootstrap(trainingSet,aggName,'OS',pipe_dict['train'][1])\n",
    "sa.LASSO_COX_bootstrap(testingSet,aggName,'OS',pipe_dict['test'][1],param_grid=best_params_LAS)\n",
    "\n",
    "# RSF\n",
    "#best_params_RSF = sa.RSF_bootstrap(trainingSet,aggName,'OS',pipe_dict['train'][1])\n",
    "#sa.RSF_bootstrap(testingSet,aggName,'OS',pipe_dict['test'][1],param_grid=best_params_RSF)"
   ]
  },
  {
   "cell_type": "code",
   "execution_count": null,
   "id": "b19f5b1e",
   "metadata": {},
   "outputs": [],
   "source": []
  }
 ],
 "metadata": {
  "kernelspec": {
   "display_name": "Python 3 (ipykernel)",
   "language": "python",
   "name": "python3"
  },
  "language_info": {
   "codemirror_mode": {
    "name": "ipython",
    "version": 3
   },
   "file_extension": ".py",
   "mimetype": "text/x-python",
   "name": "python",
   "nbconvert_exporter": "python",
   "pygments_lexer": "ipython3",
   "version": "3.8.2"
  }
 },
 "nbformat": 4,
 "nbformat_minor": 5
}
